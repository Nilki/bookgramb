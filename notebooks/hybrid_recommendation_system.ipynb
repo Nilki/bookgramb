{
 "cells": [
  {
   "cell_type": "code",
   "execution_count": 56,
   "outputs": [],
   "source": [
    "description = \"Imbued on every page with Frank McCourt's astounding humor and compassion. This is a glorious book that bears all the marks of a classic.When I look back on my childhood I wonder how I managed to survive at all. It was, of course, a miserable childhood: the happy childhood is hardly worth your while. Worse than the ordinary miserable childhood is the miserable Irish childhood, and worse yet is the miserable Irish Catholic childhood.So begins the Pulitzer Prize winning memoir of Frank McCourt, born in Depression-era Brooklyn to recent Irish immigrants and raised in the slums of Limerick, Ireland. Frank's mother, Angela, has no money to feed the children since Frank's father, Malachy, rarely works, and when he does he drinks his wages. Yet Malachy-- exasperating, irresponsible and beguiling-- does nurture in Frank an appetite for the one thing he can provide: a story. Frank lives for his father's tales of Cuchulain, who saved Ireland, and of the Angel on the Seventh Step, who brings his mother babies. Perhaps it is story that accounts for Frank's survival. Wearing rags for diapers, begging a pig's head for Christmas dinner and gathering coal from the roadside to light a fire, Frank endures poverty, near-starvation and the casual cruelty of relatives and neighbors--yet lives to tell his tale with eloquence, exuberance and remarkable forgiveness. Angela's Ashes, imbued on every page with Frank McCourt's astounding humor and compassion, is a glorious book that bears all the marks of a classic.\""
   ],
   "metadata": {
    "collapsed": false,
    "ExecuteTime": {
     "start_time": "2023-05-21T23:25:30.571793Z",
     "end_time": "2023-05-21T23:25:30.579943Z"
    }
   }
  },
  {
   "cell_type": "code",
   "execution_count": 57,
   "outputs": [
    {
     "name": "stdout",
     "output_type": "stream",
     "text": [
      "<class 'list'>\n"
     ]
    }
   ],
   "source": [
    "# Example usage\n",
    "occupied = 0\n",
    "location = [6.903086, 79.878333]\n",
    "print(type(location))"
   ],
   "metadata": {
    "collapsed": false,
    "ExecuteTime": {
     "start_time": "2023-05-21T23:25:30.597849Z",
     "end_time": "2023-05-21T23:25:30.597849Z"
    }
   }
  },
  {
   "cell_type": "code",
   "execution_count": 58,
   "metadata": {
    "collapsed": true,
    "ExecuteTime": {
     "start_time": "2023-05-21T23:25:30.620328Z",
     "end_time": "2023-05-21T23:25:35.438564Z"
    }
   },
   "outputs": [
    {
     "name": "stdout",
     "output_type": "stream",
     "text": [
      "1/1 [==============================] - 1s 1s/step\n",
      "       book_id               book_authors   \n",
      "75          75              Frank McCourt  \\\n",
      "112        112  Mitch Albom|Saulius Dagys   \n",
      "126        126              Truman Capote   \n",
      "156        156          Elizabeth Gilbert   \n",
      "201        201            Thomas Keneally   \n",
      "...        ...                        ...   \n",
      "45996    45996          Natascha Kampusch   \n",
      "46007    46007              Avi Steinberg   \n",
      "46008    46008              Howard Megdal   \n",
      "46009    46009              Howard Megdal   \n",
      "46010    46010     Mimi Baird|Eve Claxton   \n",
      "\n",
      "                                               book_desc   \n",
      "75     Imbued on every page with Frank McCourt's asto...  \\\n",
      "112    Maybe it was a grandparent, or a teacher or a ...   \n",
      "126    On November 15, 1959, in the small town of Hol...   \n",
      "156    A celebrated writer's irresistible, candid, an...   \n",
      "201    In the shadow of Auschwitz, a flamboyant Germa...   \n",
      "...                                                  ...   \n",
      "45996  On March 2, 1998, ten-year-old Natascha Kampus...   \n",
      "46007  Avi Steinberg is stumped. After defecting from...   \n",
      "46008  In this fearless and half-crazy story, Howard ...   \n",
      "46009  From the icons of the game to the players who ...   \n",
      "46010  Soon to be a major motion picture, from Brad P...   \n",
      "\n",
      "                              book_edition book_format book_isbn book_pages   \n",
      "75                                     NaN   Paperback  9.78E+12  452 pages  \\\n",
      "112                                    NaN   Paperback  9.78E+12  210 pages   \n",
      "126    First Vintage International edition   Paperback  9.78E+12  343 pages   \n",
      "156                                    NaN   Paperback  9.78E+12  334 pages   \n",
      "201                                    NaN   Paperback  9.78E+12  429 pages   \n",
      "...                                    ...         ...       ...        ...   \n",
      "45996                                  NaN   Paperback  9.78E+12  320 pages   \n",
      "46007                                  NaN   Hardcover  9.78E+12  399 pages   \n",
      "46008                                  NaN   Hardcover  9.78E+12  256 pages   \n",
      "46009                                  NaN   Hardcover  9.78E+12  256 pages   \n",
      "46010                                  NaN   Hardcover  9.78E+12  272 pages   \n",
      "\n",
      "       book_rating  book_rating_count  book_review_count  ...   \n",
      "75            4.09             466398              10595  ...  \\\n",
      "112           4.08             658091              21367  ...   \n",
      "126           4.06             444758              13405  ...   \n",
      "156           3.53            1305657              51368  ...   \n",
      "201           4.34             117770               1846  ...   \n",
      "...            ...                ...                ...  ...   \n",
      "45996         3.84               7286                568  ...   \n",
      "46007         3.51               3717                661  ...   \n",
      "46008         3.37                 27                  9  ...   \n",
      "46009         3.97                 34                  5  ...   \n",
      "46010         3.82                867                187  ...   \n",
      "\n",
      "                                               image_url genre_count   \n",
      "75     https://images.gr-assets.com/books/1348317139l...           4  \\\n",
      "112    https://images.gr-assets.com/books/1423763749l...           5   \n",
      "126    https://images.gr-assets.com/books/1424931136l...           7   \n",
      "156    https://images.gr-assets.com/books/1503066414l...           4   \n",
      "201    https://images.gr-assets.com/books/1348163457l...           6   \n",
      "...                                                  ...         ...   \n",
      "45996  https://images.gr-assets.com/books/1311703381l...           8   \n",
      "46007  https://images.gr-assets.com/books/1320533033l...           7   \n",
      "46008  https://images.gr-assets.com/books/1312074392l...           5   \n",
      "46009  https://images.gr-assets.com/books/1348841629l...           3   \n",
      "46010  https://images.gr-assets.com/books/1403192135l...           9   \n",
      "\n",
      "                                              genre_list       label language   \n",
      "75     ['Nonfiction', 'Autobiography', 'Memoir', 'Bio...  nonfiction  English  \\\n",
      "112    ['Nonfiction', 'Autobiography', 'Memoir', 'Bio...  nonfiction  English   \n",
      "126    ['Nonfiction', 'Classics', 'Crime', 'True Crim...  nonfiction  English   \n",
      "156    ['Nonfiction', 'Autobiography', 'Memoir', 'Tra...  nonfiction  English   \n",
      "201    ['History', 'Nonfiction', 'Classics', 'World W...  nonfiction  English   \n",
      "...                                                  ...         ...      ...   \n",
      "45996  ['Crime', 'True Crime', 'Biography', 'Nonficti...  nonfiction  English   \n",
      "46007  ['Nonfiction', 'Autobiography', 'Memoir', 'Bio...  nonfiction  English   \n",
      "46008  ['Sports', 'Baseball', 'Sports and Games', 'Sp...  nonfiction  English   \n",
      "46009       ['Nonfiction', 'Sports and Games', 'Sports']  nonfiction  English   \n",
      "46010  ['Nonfiction', 'Autobiography', 'Memoir', 'Bio...  nonfiction  English   \n",
      "\n",
      "      userId                           bookId   \n",
      "75       512                 8908.World_War_Z  \\\n",
      "112     1635             13326831-the-testing   \n",
      "126     1809                1000751.Pollyanna   \n",
      "156     1386            32071.Sons_and_Lovers   \n",
      "201     1151                        2364284._   \n",
      "...      ...                              ...   \n",
      "45996   1815                     406373.Faust   \n",
      "46007    797                   7805.Pale_Fire   \n",
      "46008     20             24280.Les_Mis_rables   \n",
      "46009    939   27774758-an-ember-in-the-ashes   \n",
      "46010   1849  62446.The_Prince_and_the_Pauper   \n",
      "\n",
      "                                     location Occupied predicted_genre  \n",
      "75     [6.945608188625001, 79.99852844338653]        0      nonfiction  \n",
      "112    [7.329218008756513, 79.87750380506408]        0      nonfiction  \n",
      "126    [7.169771269256336, 79.97651018657213]        0      nonfiction  \n",
      "156    [7.804035001895041, 79.86174963425616]        0      nonfiction  \n",
      "201     [7.415221653336663, 79.9930276516728]        0      nonfiction  \n",
      "...                                       ...      ...             ...  \n",
      "45996  [7.461066917004752, 80.01171896785009]        0      nonfiction  \n",
      "46007   [7.34802792254647, 79.90731728534858]        0      nonfiction  \n",
      "46008  [6.944965357802821, 79.96402078423874]        0      nonfiction  \n",
      "46009  [6.950060367553618, 79.95654426591935]        1      nonfiction  \n",
      "46010  [7.802350957324828, 79.99843227093365]        0      nonfiction  \n",
      "\n",
      "[7000 rows x 22 columns]\n"
     ]
    }
   ],
   "source": [
    "import pandas as pd\n",
    "import geopy.distance\n",
    "from keras.models import load_model\n",
    "import tokanizer_and_cleaner\n",
    "import numpy as np\n",
    "\n",
    "# Step 1: Load the user_book.csv dataset\n",
    "df = pd.read_csv('E:\\\\RESEARCH\\\\rec\\\\bookgramb\\\\data\\\\books_with_users.csv')\n",
    "\n",
    "# Step 2: Load the saved LSTM model\n",
    "model = load_model('E:\\\\RESEARCH\\\\rec\\\\bookgramb\\\\models\\\\best_model.h5')\n",
    "\n",
    "# Step 3: Preprocess the text data in the description column of the df dataframe\n",
    "max_desc_length=200\n",
    "\n",
    "labels = ['fiction', 'nonfiction']\n",
    "cleaned_text = tokanizer_and_cleaner.clean_text(description)\n",
    "tokenized_text = tokanizer_and_cleaner.tokenizer(cleaned_text, tokanizer_and_cleaner.vocab_dict, max_desc_length)\n",
    "input_data = np.reshape(tokenized_text, (1, max_desc_length))\n",
    "# Step 4: Use the loaded LSTM model to predict the genre of books\n",
    "output = model.predict(input_data, batch_size=1)\n",
    "score = (output > 0.5) * 1\n",
    "pred = score.item()\n",
    "\n",
    "\n",
    "# Step 5: Compare the predicted genre with the actual genre in the label column of the df dataframe\n",
    "df['predicted_genre'] = labels[pred]\n",
    "\n",
    "# Step 6: Filter the top 10 books with the predicted genre\n",
    "top10_books = df[df['predicted_genre'] == df['label']]\n",
    "\n",
    "# Step 7: Print the top 10 books with the predicted genre\n",
    "print(top10_books)\n"
   ]
  },
  {
   "cell_type": "code",
   "execution_count": 59,
   "outputs": [
    {
     "name": "stdout",
     "output_type": "stream",
     "text": [
      "                                  book_title  book_rating   distance\n",
      "46     Harry Potter and the Sorcerer's Stone         4.46  20.628801\n",
      "19608                       The Hunger Games         4.33  57.433685\n",
      "20016                       The Hunger Games         4.33  10.622522\n",
      "13904                       The Hunger Games         4.33  24.272735\n",
      "0                           The Hunger Games         4.33  12.508600\n",
      "23064                               Twilight         3.58  96.190179\n",
      "3                                   Twilight         3.58  87.755512\n",
      "29639                  To Kill a Mockingbird         4.27  77.777584\n",
      "27061                  To Kill a Mockingbird         4.27  79.783722\n",
      "22966                  To Kill a Mockingbird         4.27  42.778476\n"
     ]
    }
   ],
   "source": [
    "# Define the rule-based recommendation function\n",
    "def rule_based_recommendation(top10_books, occupied):\n",
    "    if occupied == 1:\n",
    "        # If the user is currently occupying a location, recommend books with high ratings\n",
    "        recommendations = top10_books[top10_books['book_rating'] >= 4.0].sort_values(by=['book_rating'], ascending=False)\n",
    "    else:\n",
    "        # If the user is not currently occupying a location, recommend popular books\n",
    "        recommendations = top10_books.sort_values(by=['book_rating_count', 'book_review_count'], ascending=False)\n",
    "\n",
    "    # Return the top 10 recommendations\n",
    "    return recommendations.head(10)\n",
    "\n",
    "# Define the geographical recommendation function\n",
    "def geographical_recommendation(top10_books, location):\n",
    "    # Extract the latitude and longitude values from the location string\n",
    "    top10_books['latitude'] = top10_books['location'].apply(lambda x: float(x.strip('[]').split(',')[0]))\n",
    "    top10_books['longitude'] = top10_books['location'].apply(lambda x: float(x.strip('[]').split(',')[1]))\n",
    "\n",
    "    # Compute the distance between each user and the target location\n",
    "    top10_books['distance'] = top10_books.apply(lambda row: geopy.distance.distance((row['latitude'], row['longitude']), location).km, axis=1)\n",
    "    # Sort the books by distance\n",
    "    recommendations = top10_books.sort_values(by=['distance'])\n",
    "    # print(recommendations)\n",
    "    # Return the top 10 recommendations\n",
    "    return recommendations.head(10)\n",
    "\n",
    "# Define the hybrid recommendation function\n",
    "def hybrid_recommendation(top10_books, occupied, location):\n",
    "    # Get the recommendations from the rule-based and geographical recommendation systems\n",
    "    rule_based_recommendations = rule_based_recommendation(top10_books, occupied)\n",
    "    geographical_recommendations = geographical_recommendation(rule_based_recommendations, location)\n",
    "\n",
    "    # Combine the two sets of recommendations and remove duplicates\n",
    "    recommendations = pd.concat([rule_based_recommendations, geographical_recommendations])\n",
    "    recommendations = recommendations.drop_duplicates(subset='book_id')\n",
    "\n",
    "    # Return the top 10 recommendations\n",
    "    return recommendations.head(10)\n",
    "\n",
    "recommendations = hybrid_recommendation(df, occupied, location)\n",
    "print(recommendations[['book_title', 'book_rating', 'distance']])"
   ],
   "metadata": {
    "collapsed": false,
    "ExecuteTime": {
     "start_time": "2023-05-21T23:25:35.435517Z",
     "end_time": "2023-05-21T23:25:35.460151Z"
    }
   }
  },
  {
   "cell_type": "code",
   "execution_count": 59,
   "outputs": [],
   "source": [],
   "metadata": {
    "collapsed": false,
    "ExecuteTime": {
     "start_time": "2023-05-21T23:25:35.463556Z",
     "end_time": "2023-05-21T23:25:35.494752Z"
    }
   }
  }
 ],
 "metadata": {
  "kernelspec": {
   "display_name": "Python 3",
   "language": "python",
   "name": "python3"
  },
  "language_info": {
   "codemirror_mode": {
    "name": "ipython",
    "version": 2
   },
   "file_extension": ".py",
   "mimetype": "text/x-python",
   "name": "python",
   "nbconvert_exporter": "python",
   "pygments_lexer": "ipython2",
   "version": "2.7.6"
  }
 },
 "nbformat": 4,
 "nbformat_minor": 0
}
